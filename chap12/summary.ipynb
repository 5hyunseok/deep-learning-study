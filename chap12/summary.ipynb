{
 "cells": [
  {
   "cell_type": "markdown",
   "metadata": {},
   "source": [
    "# 12. 이미지 인식을 위한 인공신경망 훈련"
   ]
  },
  {
   "cell_type": "markdown",
   "metadata": {},
   "source": [
    "## 12.1 인공신경망에 의한 복잡한 함수들의 모델링\n",
    "<hr>\n",
    "\n",
    "\n",
    "### 12.1.1 단일레이어 신경망 복습\n",
    "\n",
    "1. 단층 퍼셉트론\n",
    "2. ADAptive LInear NEuron(Adaline)\n",
    "\n",
    "<img src=\"images/1.png\" width=\"60%\">\n",
    "\n",
    "- 바이너리 분류를 위한 알고리즘\n",
    "- 가중치를 **퍼셉트론의 헤비사이드 스텝 함수가 아닌, 항등함수로** 업데이트\n",
    "- 가중치를 학습하기 위해 그래디언트 디센트 최적화 사용 (그래디언트 디센트란? http://nobilitycat.tistory.com/entry/Gradient-Descent)\n",
    "- 비용함수를 편차제곱합(SSE, Sum of Squared Errors)로 정의 - 미분 가능한 함수이면서 미분하기 쉽다\n",
    "\n",
    "![](images/2.png)\n",
    "\n",
    "![](images/3.png)\n",
    "\n",
    "\n",
    "### (보충) 퍼셉트론의 확장\n",
    "\n",
    "이렇게 단순하고 강력한 퍼셉트론에는 한계가 있는데 바로 선형 분리가 되는 문제가 아니면 해결이 불가능하다는 점\n",
    "\n",
    "- ex. AND,OR 연산과는 달리 단층 퍼셉트론으로 해결 불가능한 XOR 연산\n",
    "![](images/backup-1.png)\n",
    "\n",
    "이를 해결하기 위한 방법으로 제시된 것이 바로 다층으로 구성된 퍼셉트론.\n",
    "\n",
    "\n",
    "### (보충) MLP 겉핥기\n",
    "\n",
    "![](images/backup-2.png)\n",
    "\n",
    "MLP는 다음과 같이 동작한다.\n",
    "1. 초기 가중치는 랜덤으로 주어진다.\n",
    "2. 각 노드 하나는 각각의 퍼셉트론이다. 즉 노드마다 활성함수가 적용된다.\n",
    "3. 활성함수는 시그모이드 함수로 한다. (미분하기에 용이)\n",
    "4. 가중치를 수정해 오차를 최소화 하는 방향으로 학습한다. 이를 위해 그래디언트 디센트를 이용하는데 각 가중치가 전체 오차에 얼마나 영향을 미치는가를 알기 위해 비용함수를 각각의 가중치로 편미분하고 그 값을 이용하여 기존의 가중치를 수정한다.\n",
    "\n",
    "\n",
    "### 12.1.2 다중 레이어 퍼셉트론 (Multi Layer Perceptron, MLP)\n",
    "\n",
    "<img src=\"images/4.png\" width=\"50%\">\n",
    "\n",
    "\n",
    "1. 위 그림은 세 가지 레이어로 구성되어 있다. 입력 레이어, 은닉 레이어, 출력 레이어\n",
    "2. 표기에 대해 알아보자\n",
    "    - i번째 레이어 (위첨자+괄호) 내의 j번째 활성화 단위 (아래첨자)\n",
    "    - i레이어 내의 (위첨자+괄호) k번째 단위와 i+1레이어 내의 j번째 단위 간 연결의 가중치 (아래첨자 j,k - 순서에 유의)\n",
    "3. \n",
    "\n",
    "\n",
    "- 다중 분류를 수행할 수 있게 해주는 방법 중 하나\n",
    "- 범주형 변수의 원핫(one-hot) 표현방식\n",
    "\n",
    "\n",
    "\n",
    "\n",
    "### 12.1.3 순전파(forward propagation)를 이용한 신경망의 활성화\n",
    "\n",
    "MLP의 학습과정 요약\n",
    "1. 입력 레이어를 시작하면, 출력을 생성하기 위해 네트워크에 의한 훈련 데이터의 패턴을 앞쪽으로 전파한다.\n",
    "2. 네트워크 출력을 기준으로 비용함수를 사용하여 최소화하고자 하는 오차를 계산한다.\n",
    "3. 오차를 역전파(back propagation)하고 네트워크에서 각각의 가중치에 대한 도함수를 찾아 모델을 업데이트한다.\n",
    "    - output 으로부터 가까운 쪽에서 먼쪽으로 진행한다. 각각의 가중치에 대한 도함수를 구하는 과정에서 보다 output 쪽에 가까운 가중치의 도함수값을 이용하게 되기 때문\n",
    "4. 1~3을 반복\n",
    "\n",
    "그래디언트 기반의 방법을 이용하여 가중치의 학습하는 모델의 경우 활성함수가 미분 가능해야 한다.\n",
    "또한 이미지 분류와 같은 복잡한 문제를 푸는 것이 가능하려면 비선형 활성함수가 필요하다.\n",
    "\n"
   ]
  },
  {
   "cell_type": "markdown",
   "metadata": {},
   "source": [
    "## 12.2 손으로 작성된 숫자들의 분류\n",
    "<hr>\n",
    "\n",
    "### 12.1 MNIST 데이터의 획득\n",
    "http://yann.lecun.com/exdb/mnist/\n"
   ]
  },
  {
   "cell_type": "code",
   "execution_count": 30,
   "metadata": {
    "collapsed": false
   },
   "outputs": [],
   "source": [
    "import os\n",
    "import struct\n",
    "import numpy as np\n",
    " \n",
    "def load_mnist(path, kind='train'):\n",
    "    \"\"\"Load MNIST data from `path`\"\"\"\n",
    "    labels_path = os.path.join(path, \n",
    "                               '%s-labels-idx1-ubyte' % kind)\n",
    "    images_path = os.path.join(path, \n",
    "                               '%s-images-idx3-ubyte' % kind)\n",
    "        \n",
    "    with open(labels_path, 'rb') as lbpath:\n",
    "        magic, n = struct.unpack('>II', \n",
    "                                 lbpath.read(8))\n",
    "        labels = np.fromfile(lbpath, \n",
    "                             dtype=np.uint8)\n",
    "\n",
    "    with open(images_path, 'rb') as imgpath:\n",
    "        magic, num, rows, cols = struct.unpack(\">IIII\", \n",
    "                                               imgpath.read(16))\n",
    "        images = np.fromfile(imgpath, \n",
    "                             dtype=np.uint8).reshape(len(labels), 784)\n",
    " \n",
    "    return images, labels"
   ]
  },
  {
   "cell_type": "code",
   "execution_count": 17,
   "metadata": {
    "collapsed": false
   },
   "outputs": [
    {
     "name": "stdout",
     "output_type": "stream",
     "text": [
      "Rows: 60000, columns: 784\n"
     ]
    }
   ],
   "source": [
    "X_train, y_train = load_mnist('../data/', kind='train')\n",
    "print('Rows: %d, columns: %d' % (X_train.shape[0], X_train.shape[1]))"
   ]
  },
  {
   "cell_type": "code",
   "execution_count": 19,
   "metadata": {
    "collapsed": false
   },
   "outputs": [
    {
     "name": "stdout",
     "output_type": "stream",
     "text": [
      "Rows: 10000, columns: 784\n"
     ]
    }
   ],
   "source": [
    "X_test, y_test = load_mnist('../data/', kind='t10k')\n",
    "print('Rows: %d, columns: %d' % (X_test.shape[0], X_test.shape[1]))"
   ]
  },
  {
   "cell_type": "code",
   "execution_count": 22,
   "metadata": {
    "collapsed": false
   },
   "outputs": [
    {
     "data": {
      "image/png": "[encoded data removed]",
      "text/plain": [
       "<matplotlib.figure.Figure at 0x1114ad4a8>"
      ]
     },
     "metadata": {},
     "output_type": "display_data"
    }
   ],
   "source": [
    "import matplotlib.pyplot as plt\n",
    "\n",
    "fig, ax = plt.subplots(nrows=2, ncols=5, sharex=True, sharey=True,)\n",
    "ax = ax.flatten()\n",
    "for i in range(10):\n",
    "    img = X_train[y_train == i][0].reshape(28, 28)\n",
    "    ax[i].imshow(img, cmap='Greys', interpolation='nearest')\n",
    "\n",
    "ax[0].set_xticks([])\n",
    "ax[0].set_yticks([])\n",
    "plt.tight_layout()\n",
    "# plt.savefig('./figures/mnist_all.png', dpi=300)\n",
    "plt.show()"
   ]
  },
  {
   "cell_type": "markdown",
   "metadata": {},
   "source": [
    "### 784 input-layer, 50 hidden-layer, 10 output-layer MLP"
   ]
  },
  {
   "cell_type": "code",
   "execution_count": 27,
   "metadata": {
    "collapsed": false
   },
   "outputs": [
    {
     "name": "stderr",
     "output_type": "stream",
     "text": [
      "Epoch: 1000/1000"
     ]
    },
    {
     "data": {
      "text/plain": [
       "<neuralnet.NeuralNetMLP at 0x112ad2898>"
      ]
     },
     "execution_count": 27,
     "metadata": {},
     "output_type": "execute_result"
    }
   ],
   "source": [
    "from neuralnet import NeuralNetMLP\n",
    "nn = NeuralNetMLP(n_output=10, \n",
    "                  n_features=X_train.shape[1], \n",
    "                  n_hidden=50, \n",
    "                  l2=0.1, \n",
    "                  l1=0.0, \n",
    "                  epochs=1000, \n",
    "                  eta=0.001,\n",
    "                  alpha=0.001,\n",
    "                  decrease_const=0.00001,\n",
    "                  minibatches=50, \n",
    "                  shuffle=True,\n",
    "                  random_state=1)\n",
    "nn.fit(X_train, y_train, print_progress=True)"
   ]
  },
  {
   "cell_type": "code",
   "execution_count": 29,
   "metadata": {
    "collapsed": false
   },
   "outputs": [
    {
     "data": {
      "image/png": "[encoded data removed]",
      "text/plain": [
       "<matplotlib.figure.Figure at 0x112ad2748>"
      ]
     },
     "metadata": {},
     "output_type": "display_data"
    }
   ],
   "source": [
    "import matplotlib.pyplot as plt\n",
    "\n",
    "plt.plot(range(len(nn.cost_)), nn.cost_)\n",
    "plt.ylim([0, 2000])\n",
    "plt.ylabel('Cost')\n",
    "plt.xlabel('Epochs * 50')\n",
    "plt.tight_layout()\n",
    "# plt.savefig('./figures/cost.png', dpi=300)\n",
    "plt.show()"
   ]
  },
  {
   "cell_type": "code",
   "execution_count": 31,
   "metadata": {
    "collapsed": false
   },
   "outputs": [
    {
     "name": "stdout",
     "output_type": "stream",
     "text": [
      "Training accuracy: 97.67%\n"
     ]
    }
   ],
   "source": [
    "y_train_pred = nn.predict(X_train)\n",
    "acc = np.sum(y_train == y_train_pred, axis=0) / X_train.shape[0]\n",
    "print('Training accuracy: %.2f%%' % (acc * 100))"
   ]
  },
  {
   "cell_type": "code",
   "execution_count": 32,
   "metadata": {
    "collapsed": false
   },
   "outputs": [
    {
     "name": "stdout",
     "output_type": "stream",
     "text": [
      "Test accuracy: 96.01%\n"
     ]
    }
   ],
   "source": [
    "y_test_pred = nn.predict(X_test)\n",
    "acc = np.sum(y_test == y_test_pred, axis=0) / X_test.shape[0]\n",
    "print('Test accuracy: %.2f%%' % (acc * 100))"
   ]
  },
  {
   "cell_type": "markdown",
   "metadata": {},
   "source": [
    "## 12.3 인공신경망 훈련\n",
    "<hr>\n",
    "\n",
    "### 12.3.1. 비용함수 (로지스틱 비용함수)\n",
    "\n",
    "\n",
    "\n",
    "\n",
    "### 12.3.2 역전파 (back-propagation)\n",
    "\n",
    "<hr>\n",
    "#### (보충)\n",
    "- 계산 그래프로 이해하기\n",
    "- 국소적 계산\n",
    "- 연쇄법칙 (chain rule)\n",
    "- 덧셈,곱셉 계산 그래프의 예제로 역전파 이해하기\n",
    "\n",
    "<img src=\"images/backup-3.png\" width=70%>\n",
    "\n",
    "\n",
    "<hr>\n",
    "#### (본문)\n",
    "\n",
    "역전파에서는 오른쪽에서 왼쪽으로 **오차를 전파**한다.\n",
    "따라서 출력 레이어의 오차 벡터를 계산하는것으로 출발한다.\n",
    "\n",
    "![](images/7.png)\n",
    "\n",
    "다음으로는 이 오차 벡터를 이용하여 히든 레이어의 오차항들을 계산한다.\n",
    "\n",
    "![](images/8.png)\n",
    "![](images/9.png)\n",
    "(시그모이드 활성함수의 미분으로 계산)\n",
    "\n",
    "오차항들을 구하고 나면 비용함수의 미분을 구할 수 있다.\n",
    "\n",
    "![](images/10.png)\n",
    "\n",
    "이제 이 구한 각각의 비용함수의 편미분 값을 기존의 오차에 더해준다.\n",
    "\n",
    "![](images/11.png)\n",
    "\n",
    "그리고나서 정규화 항을 추가하고\n",
    "\n",
    "![](images/12.png)\n",
    "\n",
    "마지막으로 그래디언트를 계산하여 반대 방향으로 가중치를 업데이트한다.\n",
    "\n",
    "![](images/13.png)\n",
    "\n",
    "<img src='images/14.png' width=\"60%\">"
   ]
  },
  {
   "cell_type": "code",
   "execution_count": null,
   "metadata": {
    "collapsed": true
   },
   "outputs": [],
   "source": []
  },
  {
   "cell_type": "code",
   "execution_count": null,
   "metadata": {
    "collapsed": true
   },
   "outputs": [],
   "source": []
  }
 ],
 "metadata": {
  "kernelspec": {
   "display_name": "Python 3",
   "language": "python",
   "name": "python3"
  },
  "language_info": {
   "codemirror_mode": {
    "name": "ipython",
    "version": 3
   },
   "file_extension": ".py",
   "mimetype": "text/x-python",
   "name": "python",
   "nbconvert_exporter": "python",
   "pygments_lexer": "ipython3",
   "version": "3.6.0"
  }
 },
 "nbformat": 4,
 "nbformat_minor": 2
}
